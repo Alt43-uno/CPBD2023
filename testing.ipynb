{
 "cells": [
  {
   "cell_type": "markdown",
   "source": [
    "### Очистка датасета"
   ],
   "metadata": {
    "collapsed": false
   }
  },
  {
   "cell_type": "code",
   "execution_count": 9,
   "outputs": [
    {
     "name": "stderr",
     "output_type": "stream",
     "text": [
      "C:\\Users\\for_i\\AppData\\Local\\Temp\\ipykernel_14596\\1698437392.py:4: DtypeWarning: Columns (3,6,7,8,9,10,11,12,13,14,15,16,17,18,19,20,21,22,23,24,25,26,27,28,29,30,31,32,33,34,35,36,37,38,39,40,41,42,43,44,45,46,47,48,49,50,51,52,53,54,55,56,57,58,59,60,61,62,63,64,65,66,67,68,69,70,71,72,73,74,75,76,77,78,79,80,81,82,83,84,85,86,87,88,89,90,91,92,93,94,95,96,97,98,99,100,101,102,103,104,105,106,107,108,109,110,111,112,113,114,115,116,117,118,119,120,121,122,123,124,125,126,127,128,129,130,131,132,133,134,135,136,137,138,139,140,141,142,143,144,145,146,147,148,149,150,151,152,153,154,155,156,157,158,159,160,161,162,163,164,165,166,167,168,169,170,171,172,173,174,175,176,177,178,179,180,181,182,183,184,185,186,187,188,189,190,191,192,193,194,195,196,197,198,199,200,201,202,203,204,205,206,207,208,209,211,212) have mixed types. Specify dtype option on import or set low_memory=False.\n",
      "  data = pd.read_csv(csv_file_path, skipinitialspace=True)\n"
     ]
    },
    {
     "name": "stdout",
     "output_type": "stream",
     "text": [
      "0          instagram\n",
      "1          instagram\n",
      "2          instagram\n",
      "3          instagram\n",
      "4          instagram\n",
      "             ...    \n",
      "1048570       reddit\n",
      "1048571       reddit\n",
      "1048572       reddit\n",
      "1048573       reddit\n",
      "1048574       reddit\n",
      "Name: platform, Length: 1048575, dtype: object\n"
     ]
    },
    {
     "data": {
      "text/plain": "'cleaned_comments.csv'"
     },
     "execution_count": 9,
     "metadata": {},
     "output_type": "execute_result"
    }
   ],
   "source": [
    "import pandas as pd\n",
    "\n",
    "csv_file_path = 'comments_not_label.csv'\n",
    "data = pd.read_csv(csv_file_path, skipinitialspace=True)\n",
    "\n",
    "required_columns = [\n",
    "    \"username\", \"datetime\", \"comment\", \"likes\", \"celeb\", \"platform\",\n",
    "    \"TOXICITY\", \"SEVERE_TOXICITY\", \"SEXUALLY_EXPLICIT\", \"THREAT\",\n",
    "    \"INSULT\", \"IDENTITY_ATTACK\"\n",
    "]\n",
    "\n",
    "data = data[required_columns]\n",
    "print(data.platform)\n",
    "output_file_path = 'cleaned_comments.csv'\n",
    "data.to_csv(output_file_path, index=False, quoting=2)\n",
    "\n",
    "output_file_path\n"
   ],
   "metadata": {
    "collapsed": false,
    "ExecuteTime": {
     "end_time": "2023-12-25T18:17:04.515778600Z",
     "start_time": "2023-12-25T18:15:42.341622900Z"
    }
   }
  },
  {
   "cell_type": "markdown",
   "source": [
    "## С использованием модели multilabel_toxicity_model.pkl мы запускаем проставление лейблов комментариям в датасете"
   ],
   "metadata": {
    "collapsed": false
   }
  },
  {
   "cell_type": "code",
   "execution_count": 7,
   "outputs": [
    {
     "name": "stderr",
     "output_type": "stream",
     "text": [
      "C:\\Users\\for_i\\AppData\\Local\\Temp\\ipykernel_14596\\1781227934.py:10: DtypeWarning: Columns (8,9,10,11) have mixed types. Specify dtype option on import or set low_memory=False.\n",
      "  cleaned_data = pd.read_csv(cleaned_data_path)\n"
     ]
    }
   ],
   "source": [
    "import pandas as pd\n",
    "import joblib\n",
    "\n",
    "# Загрузка обученной модели мультилейбл классификации\n",
    "model_path = 'multilabel_toxicity_model.pkl'\n",
    "model = joblib.load(model_path)\n",
    "\n",
    "# Загрузка данных, которые были предварительно очищены\n",
    "cleaned_data_path = 'cleaned_comments.csv'\n",
    "cleaned_data = pd.read_csv(cleaned_data_path)\n",
    "\n",
    "# Очищаем колонку от нулевых значений\n",
    "cleaned_data.dropna(subset=['comment'], inplace=True)\n",
    "\n",
    "\n",
    "\n",
    "# Векторизация и предсказание лейблов для комментариев\n",
    "# Предсказание с помощью модели\n",
    "predicted_labels = model.predict(cleaned_data['comment'].astype(str))\n",
    "\n",
    "# Имена столбцов для предсказаний\n",
    "label_columns = [\"TOXICITY\", \"SEVERE_TOXICITY\", \"SEXUALLY_EXPLICIT\", \"THREAT\", \"INSULT\", \"IDENTITY_ATTACK\"]\n",
    "\n",
    "# Замените существующие колонки предсказаниями\n",
    "for i, column in enumerate(label_columns):\n",
    "    cleaned_data[column] = predicted_labels[:, int(i)]\n",
    "\n",
    "# Сохраните результаты в новый CSV-файл\n",
    "cleaned_data.to_csv('cleaned_data_with_labels.csv', index=False, quoting=2)"
   ],
   "metadata": {
    "collapsed": false,
    "ExecuteTime": {
     "end_time": "2023-12-25T17:38:42.352633500Z",
     "start_time": "2023-12-25T17:38:27.258052Z"
    }
   }
  },
  {
   "cell_type": "code",
   "execution_count": null,
   "outputs": [],
   "source": [],
   "metadata": {
    "collapsed": false
   }
  }
 ],
 "metadata": {
  "kernelspec": {
   "display_name": "Python 3",
   "language": "python",
   "name": "python3"
  },
  "language_info": {
   "codemirror_mode": {
    "name": "ipython",
    "version": 2
   },
   "file_extension": ".py",
   "mimetype": "text/x-python",
   "name": "python",
   "nbconvert_exporter": "python",
   "pygments_lexer": "ipython2",
   "version": "2.7.6"
  }
 },
 "nbformat": 4,
 "nbformat_minor": 0
}
