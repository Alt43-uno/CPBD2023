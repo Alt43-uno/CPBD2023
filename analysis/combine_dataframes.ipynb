{
 "cells": [
  {
   "cell_type": "markdown",
   "source": [
    "# 1. Data cleaning"
   ],
   "metadata": {
    "collapsed": false
   },
   "id": "489f644926629e5f"
  },
  {
   "cell_type": "markdown",
   "source": [
    "## 1.1 Read CSV into DataFrame"
   ],
   "metadata": {
    "collapsed": false
   },
   "id": "bd8f693000840b39"
  },
  {
   "cell_type": "markdown",
   "source": [
    "### 1.1.1 Instagram"
   ],
   "metadata": {
    "collapsed": false
   },
   "id": "a102872907f9e64d"
  },
  {
   "cell_type": "code",
   "execution_count": 22,
   "outputs": [],
   "source": [
    "import datetime\n",
    "import re\n",
    "import pandas as pd\n",
    "\n",
    "def combine_dataframe(platform, reference_list):\n",
    "    frames = []\n",
    "    if platform == 'instagram':\n",
    "        for insta_handle in reference_list:\n",
    "            filename = f'{platform}/{insta_handle[1:]}_comments.csv'\n",
    "            df = pd.read_csv(filename).drop('Unnamed: 0', axis=1)\n",
    "            df.likes = df.likes.apply(lambda x: x if type(x) == float else x[0] if x[0].isdigit() else 0)\n",
    "            df['celeb'] = reference_list[insta_handle]\n",
    "            frames.append(df)        \n",
    "        df = pd.concat(frames)\n",
    "        df['platform'] = platform\n",
    "        df = df[['username', 'datetime', 'comment', 'likes', 'celeb', 'platform']]\n",
    "    \n",
    "    elif platform == 'twitter':\n",
    "        for name in reference_list:\n",
    "            df = pd.read_csv(f'{platform}/{name}').drop('Unnamed: 0', axis=1)\n",
    "            df = pd.DataFrame({'username': df.username, 'datetime': df.date, 'comment': df.text, 'likes': df.retweet_count, 'celeb': df.name_of_celeb, 'platform': platform})\n",
    "            frames.append(df)\n",
    "        df = pd.concat(frames)\n",
    "    \n",
    "    elif platform == 'youtube':\n",
    "        for name in reference_list:\n",
    "            try:  \n",
    "                df = pd.read_excel(f'{platform}/{name}.xlsx', sheet_name=[1,2,3])\n",
    "            except:\n",
    "                continue\n",
    "            df = pd.concat(df.values())\n",
    "            df = pd.DataFrame({'username': df.Name, 'datetime': df.Time, 'comment': df.Comment, 'likes': df.Likes, 'celeb': name, 'platform': platform})\n",
    "            frames.append(df)\n",
    "        df = pd.concat(frames)\n",
    "    \n",
    "    elif platform == 'reddit':\n",
    "        for name in reference_list:\n",
    "            if name == 'Janelle Monáe':\n",
    "                name = 'Janelle Monae'\n",
    "            df = pd.read_csv(f'{platform}/{platform}_{name}.csv')\n",
    "            df = pd.DataFrame({'username': df.SubmissionID, 'datetime': df.Timestamp, 'comment': df.Comment, 'likes': 0, 'celeb': name, 'platform': platform})\n",
    "            frames.append(df)\n",
    "        df = pd.concat(frames)\n",
    "    \n",
    "    elif platform == 'facebook':\n",
    "        df = pd.read_csv(f'{platform}/FB_Celebs.csv')\n",
    "        df = pd.DataFrame({'username': df.object_id, 'datetime': df.created_time, 'comment': df.message, 'likes': df.like_count, 'celeb': df.celeb, 'platform': platform})\n",
    "\n",
    "    return df\n",
    "\n",
    "\n",
    "def striphtml(data):\n",
    "    p = re.compile(r'<.*?>')\n",
    "    return p.sub('', data)\n",
    "\n",
    "def remove_symb(text):\n",
    "    cleaned_text = re.sub(r'[,./?!]', ' ', text)\n",
    "    return cleaned_text\n",
    "\n",
    "def remove_url(stringliteral):\n",
    "    return re.sub(r'http\\S+', '', stringliteral)\n",
    "\n",
    "def change_like(text):\n",
    "    if type(text) == int or type(text) == float:\n",
    "        return int(text)\n",
    "    if text.lower() == 'reply':\n",
    "        return 0\n",
    "    if 'likes' in text:\n",
    "        return int(text.replace('likes', '').replace(',', ''))\n",
    "    return 1\n",
    "\n",
    "def datetime_converter(text):\n",
    "    if len(text) > 10:\n",
    "        text = text[:10]\n",
    "    try:\n",
    "        return datetime.datetime.strptime(text, \"%Y-%m-%d\")\n",
    "    except:\n",
    "        return datetime.datetime.strptime(text, \"%d/%m/%Y\")"
   ],
   "metadata": {
    "collapsed": false,
    "ExecuteTime": {
     "end_time": "2023-12-25T18:13:02.685909100Z",
     "start_time": "2023-12-25T18:13:02.659045600Z"
    }
   },
   "id": "fb6463bc3063b07d"
  },
  {
   "cell_type": "code",
   "execution_count": 4,
   "outputs": [],
   "source": [
    "all_insta_handle_list = list(pd.read_excel(f'List_of_Celebrities.xlsx').iloc[:50]['Instagram Username'])\n",
    "all_celeb = list(map(str.strip, pd.read_excel(f'List_of_Celebrities.xlsx').iloc[:50]['Name']))\n",
    "insta_dict = {all_insta_handle_list[i]:all_celeb[i] for i in range(50)}"
   ],
   "metadata": {
    "collapsed": false,
    "ExecuteTime": {
     "end_time": "2023-12-25T18:08:49.994305200Z",
     "start_time": "2023-12-25T18:08:49.442645Z"
    }
   },
   "id": "f5af262b6182692f"
  },
  {
   "cell_type": "code",
   "execution_count": 5,
   "outputs": [],
   "source": [
    "df_insta = combine_dataframe('instagram', insta_dict)"
   ],
   "metadata": {
    "collapsed": false,
    "ExecuteTime": {
     "end_time": "2023-12-25T18:08:52.317171600Z",
     "start_time": "2023-12-25T18:08:49.995866400Z"
    }
   },
   "id": "670c5df709eabb6f"
  },
  {
   "cell_type": "code",
   "execution_count": 6,
   "outputs": [
    {
     "name": "stdout",
     "output_type": "stream",
     "text": [
      "<class 'pandas.core.frame.DataFrame'>\n",
      "Index: 652534 entries, 0 to 29246\n",
      "Data columns (total 6 columns):\n",
      " #   Column    Non-Null Count   Dtype \n",
      "---  ------    --------------   ----- \n",
      " 0   username  652520 non-null  object\n",
      " 1   datetime  652534 non-null  object\n",
      " 2   comment   652531 non-null  object\n",
      " 3   likes     652525 non-null  object\n",
      " 4   celeb     652534 non-null  object\n",
      " 5   platform  652534 non-null  object\n",
      "dtypes: object(6)\n",
      "memory usage: 34.8+ MB\n"
     ]
    }
   ],
   "source": [
    "df_insta.info()"
   ],
   "metadata": {
    "collapsed": false,
    "ExecuteTime": {
     "end_time": "2023-12-25T18:08:52.424900700Z",
     "start_time": "2023-12-25T18:08:52.318706300Z"
    }
   },
   "id": "beab01dd84023237"
  },
  {
   "cell_type": "markdown",
   "source": [
    "### 1.1.2 Facebook"
   ],
   "metadata": {
    "collapsed": false
   },
   "id": "f3e07181e7262d46"
  },
  {
   "cell_type": "code",
   "execution_count": 7,
   "outputs": [
    {
     "name": "stderr",
     "output_type": "stream",
     "text": [
      "C:\\Users\\for_i\\AppData\\Local\\Temp\\ipykernel_23532\\2904187273.py:46: DtypeWarning: Columns (14) have mixed types. Specify dtype option on import or set low_memory=False.\n",
      "  df = pd.read_csv(f'{platform}/FB_Celebs.csv')\n"
     ]
    }
   ],
   "source": [
    "df_facebook = combine_dataframe('facebook', all_celeb)"
   ],
   "metadata": {
    "collapsed": false,
    "ExecuteTime": {
     "end_time": "2023-12-25T18:08:52.581660600Z",
     "start_time": "2023-12-25T18:08:52.426450Z"
    }
   },
   "id": "21ffc4b71c4c9989"
  },
  {
   "cell_type": "code",
   "execution_count": 8,
   "outputs": [
    {
     "name": "stdout",
     "output_type": "stream",
     "text": [
      "<class 'pandas.core.frame.DataFrame'>\n",
      "RangeIndex: 36390 entries, 0 to 36389\n",
      "Data columns (total 6 columns):\n",
      " #   Column    Non-Null Count  Dtype  \n",
      "---  ------    --------------  -----  \n",
      " 0   username  36390 non-null  object \n",
      " 1   datetime  34823 non-null  object \n",
      " 2   comment   31302 non-null  object \n",
      " 3   likes     34094 non-null  float64\n",
      " 4   celeb     36341 non-null  object \n",
      " 5   platform  36390 non-null  object \n",
      "dtypes: float64(1), object(5)\n",
      "memory usage: 1.7+ MB\n"
     ]
    }
   ],
   "source": [
    "df_facebook.info()"
   ],
   "metadata": {
    "collapsed": false,
    "ExecuteTime": {
     "end_time": "2023-12-25T18:08:52.594575400Z",
     "start_time": "2023-12-25T18:08:52.581151500Z"
    }
   },
   "id": "f5b2118cfc775fba"
  },
  {
   "cell_type": "markdown",
   "source": [
    "### 1.1.3 Twitter"
   ],
   "metadata": {
    "collapsed": false
   },
   "id": "55fd602ca2878ec7"
  },
  {
   "cell_type": "code",
   "execution_count": 9,
   "outputs": [],
   "source": [
    "csv_filename_list = ['2020_01_15.csv', '2020_02_07.csv', '2020_03_30.csv', '2020_04_23.csv', '2020_05_05.csv', '2020_06_28.csv', '2020_07_02.csv', '2020_08_22.csv', '2020_09_09.csv', '2020_10_12.csv', '2020_12_17.csv']\n",
    "df_twitter = combine_dataframe('twitter', csv_filename_list)"
   ],
   "metadata": {
    "collapsed": false,
    "ExecuteTime": {
     "end_time": "2023-12-25T18:08:54.382269600Z",
     "start_time": "2023-12-25T18:08:52.597166200Z"
    }
   },
   "id": "79d53d8d1aad0933"
  },
  {
   "cell_type": "code",
   "execution_count": 10,
   "outputs": [
    {
     "name": "stdout",
     "output_type": "stream",
     "text": [
      "<class 'pandas.core.frame.DataFrame'>\n",
      "Index: 122985 entries, 0 to 10808\n",
      "Data columns (total 6 columns):\n",
      " #   Column    Non-Null Count   Dtype \n",
      "---  ------    --------------   ----- \n",
      " 0   username  122985 non-null  object\n",
      " 1   datetime  122985 non-null  object\n",
      " 2   comment   122985 non-null  object\n",
      " 3   likes     122985 non-null  int64 \n",
      " 4   celeb     122985 non-null  object\n",
      " 5   platform  122985 non-null  object\n",
      "dtypes: int64(1), object(5)\n",
      "memory usage: 6.6+ MB\n"
     ]
    }
   ],
   "source": [
    "df_twitter.info()"
   ],
   "metadata": {
    "collapsed": false,
    "ExecuteTime": {
     "end_time": "2023-12-25T18:08:54.434897800Z",
     "start_time": "2023-12-25T18:08:54.377163100Z"
    }
   },
   "id": "c2462af5378baa27"
  },
  {
   "cell_type": "markdown",
   "source": [
    "### 1.1.4 Youtube"
   ],
   "metadata": {
    "collapsed": false
   },
   "id": "5ec45405b5162ede"
  },
  {
   "cell_type": "code",
   "execution_count": 11,
   "outputs": [],
   "source": [
    "df_youtube = combine_dataframe('youtube', all_celeb)"
   ],
   "metadata": {
    "collapsed": false,
    "ExecuteTime": {
     "end_time": "2023-12-25T18:10:19.717966300Z",
     "start_time": "2023-12-25T18:08:54.407720400Z"
    }
   },
   "id": "fee1023406f7e474"
  },
  {
   "cell_type": "code",
   "execution_count": 12,
   "outputs": [
    {
     "name": "stdout",
     "output_type": "stream",
     "text": [
      "<class 'pandas.core.frame.DataFrame'>\n",
      "Index: 702725 entries, 0 to 43\n",
      "Data columns (total 6 columns):\n",
      " #   Column    Non-Null Count   Dtype \n",
      "---  ------    --------------   ----- \n",
      " 0   username  510342 non-null  object\n",
      " 1   datetime  514481 non-null  object\n",
      " 2   comment   514477 non-null  object\n",
      " 3   likes     514481 non-null  object\n",
      " 4   celeb     702725 non-null  object\n",
      " 5   platform  702725 non-null  object\n",
      "dtypes: object(6)\n",
      "memory usage: 37.5+ MB\n"
     ]
    }
   ],
   "source": [
    "df_youtube.info()"
   ],
   "metadata": {
    "collapsed": false,
    "ExecuteTime": {
     "end_time": "2023-12-25T18:10:19.864051400Z",
     "start_time": "2023-12-25T18:10:19.841916300Z"
    }
   },
   "id": "ba99d3e47b8f4cc5"
  },
  {
   "cell_type": "markdown",
   "source": [
    "### 1.1.5 Reddit"
   ],
   "metadata": {
    "collapsed": false
   },
   "id": "4710402b8e38ce5"
  },
  {
   "cell_type": "code",
   "execution_count": 14,
   "outputs": [],
   "source": [
    "df_reddit = combine_dataframe('reddit', all_celeb)"
   ],
   "metadata": {
    "collapsed": false,
    "ExecuteTime": {
     "end_time": "2023-12-25T18:10:41.727527500Z",
     "start_time": "2023-12-25T18:10:40.504484400Z"
    }
   },
   "id": "874cda4205f693ea"
  },
  {
   "cell_type": "code",
   "execution_count": 15,
   "outputs": [
    {
     "name": "stdout",
     "output_type": "stream",
     "text": [
      "<class 'pandas.core.frame.DataFrame'>\n",
      "Index: 315419 entries, 0 to 13032\n",
      "Data columns (total 6 columns):\n",
      " #   Column    Non-Null Count   Dtype \n",
      "---  ------    --------------   ----- \n",
      " 0   username  315419 non-null  object\n",
      " 1   datetime  315419 non-null  object\n",
      " 2   comment   315415 non-null  object\n",
      " 3   likes     315419 non-null  int64 \n",
      " 4   celeb     315419 non-null  object\n",
      " 5   platform  315419 non-null  object\n",
      "dtypes: int64(1), object(5)\n",
      "memory usage: 16.8+ MB\n"
     ]
    }
   ],
   "source": [
    "df_reddit.info()"
   ],
   "metadata": {
    "collapsed": false,
    "ExecuteTime": {
     "end_time": "2023-12-25T18:10:41.789181900Z",
     "start_time": "2023-12-25T18:10:41.730614200Z"
    }
   },
   "id": "36dc54ed28161200"
  },
  {
   "cell_type": "markdown",
   "source": [
    "## 1.3 Combine all 5 dataframe into 1"
   ],
   "metadata": {
    "collapsed": false
   },
   "id": "15e3a2cda84eb01b"
  },
  {
   "cell_type": "code",
   "execution_count": 16,
   "outputs": [],
   "source": [
    "df = pd.concat([df_insta, df_facebook, df_twitter, df_youtube, df_reddit]).reset_index()"
   ],
   "metadata": {
    "collapsed": false,
    "ExecuteTime": {
     "end_time": "2023-12-25T18:10:44.182382600Z",
     "start_time": "2023-12-25T18:10:43.755088300Z"
    }
   },
   "id": "2f673105f861197b"
  },
  {
   "cell_type": "code",
   "execution_count": 17,
   "outputs": [
    {
     "name": "stdout",
     "output_type": "stream",
     "text": [
      "<class 'pandas.core.frame.DataFrame'>\n",
      "RangeIndex: 1830053 entries, 0 to 1830052\n",
      "Data columns (total 7 columns):\n",
      " #   Column    Dtype \n",
      "---  ------    ----- \n",
      " 0   index     int64 \n",
      " 1   username  object\n",
      " 2   datetime  object\n",
      " 3   comment   object\n",
      " 4   likes     object\n",
      " 5   celeb     object\n",
      " 6   platform  object\n",
      "dtypes: int64(1), object(6)\n",
      "memory usage: 97.7+ MB\n"
     ]
    }
   ],
   "source": [
    "df.info()"
   ],
   "metadata": {
    "collapsed": false,
    "ExecuteTime": {
     "end_time": "2023-12-25T18:10:45.237723200Z",
     "start_time": "2023-12-25T18:10:45.189583200Z"
    }
   },
   "id": "e9e5a90681ab6339"
  },
  {
   "cell_type": "markdown",
   "source": [
    "## 1.4 Clean Null Values"
   ],
   "metadata": {
    "collapsed": false
   },
   "id": "52a7a777a5b55b1f"
  },
  {
   "cell_type": "code",
   "execution_count": 18,
   "outputs": [
    {
     "data": {
      "text/plain": "index            0\nusername    192397\ndatetime    189811\ncomment     193343\nlikes       190549\nceleb           49\nplatform         0\ndtype: int64"
     },
     "execution_count": 18,
     "metadata": {},
     "output_type": "execute_result"
    }
   ],
   "source": [
    "df.isnull().sum()"
   ],
   "metadata": {
    "collapsed": false,
    "ExecuteTime": {
     "end_time": "2023-12-25T18:10:47.828936800Z",
     "start_time": "2023-12-25T18:10:47.541523Z"
    }
   },
   "id": "880a871abf62ab5e"
  },
  {
   "cell_type": "code",
   "execution_count": 19,
   "outputs": [],
   "source": [
    "df.dropna(subset=['username', 'comment', 'celeb'], inplace=True)\n",
    "df.fillna(value={\"likes\": 0}, inplace=True)\n"
   ],
   "metadata": {
    "collapsed": false,
    "ExecuteTime": {
     "end_time": "2023-12-25T18:10:50.755764700Z",
     "start_time": "2023-12-25T18:10:50.312251300Z"
    }
   },
   "id": "74e74414081efe08"
  },
  {
   "cell_type": "code",
   "execution_count": 20,
   "outputs": [
    {
     "data": {
      "text/plain": "index       0\nusername    0\ndatetime    0\ncomment     0\nlikes       0\nceleb       0\nplatform    0\ndtype: int64"
     },
     "execution_count": 20,
     "metadata": {},
     "output_type": "execute_result"
    }
   ],
   "source": [
    "df.isnull().sum()"
   ],
   "metadata": {
    "collapsed": false,
    "ExecuteTime": {
     "end_time": "2023-12-25T18:10:52.882517900Z",
     "start_time": "2023-12-25T18:10:52.857447700Z"
    }
   },
   "id": "451270f80673e167"
  },
  {
   "cell_type": "markdown",
   "source": [
    "## 1.5 Clean Comments"
   ],
   "metadata": {
    "collapsed": false
   },
   "id": "c96c700188e2ac86"
  },
  {
   "cell_type": "code",
   "execution_count": 23,
   "outputs": [],
   "source": [
    "df.comment = df.comment.apply(lambda x: '' if type(x) != str else x)\n",
    "df.comment = df.comment.apply(striphtml)\n",
    "df.comment = df.comment.apply(remove_url)\n",
    "df['comment'] = df['comment'].apply(remove_symb)\n",
    "df.likes = df.likes.apply(change_like)\n",
    "df = df[df.comment != '']"
   ],
   "metadata": {
    "collapsed": false,
    "ExecuteTime": {
     "end_time": "2023-12-25T18:13:22.748517200Z",
     "start_time": "2023-12-25T18:13:17.029091300Z"
    }
   },
   "id": "31de2b84187a6e4"
  },
  {
   "cell_type": "markdown",
   "source": [
    "## 1.6 Clean datetime"
   ],
   "metadata": {
    "collapsed": false
   },
   "id": "cda5a567e134e246"
  },
  {
   "cell_type": "code",
   "execution_count": 24,
   "outputs": [],
   "source": [
    "df.datetime = df.datetime.apply(datetime_converter)"
   ],
   "metadata": {
    "collapsed": false,
    "ExecuteTime": {
     "end_time": "2023-12-25T18:13:36.081862900Z",
     "start_time": "2023-12-25T18:13:26.397476900Z"
    }
   },
   "id": "754f504ce54fbda6"
  },
  {
   "cell_type": "code",
   "execution_count": 25,
   "outputs": [
    {
     "data": {
      "text/plain": "   index                 username   datetime  \\\n0      0  pierrearden_team_gelord 2020-09-15   \n1      1          ophelielaplante 2020-09-19   \n2      2               dr_wsutton 2020-09-27   \n3      3             pwpmccormack 2020-10-26   \n4      4               bby.joker_ 2020-10-29   \n\n                                             comment  likes      celeb  \\\n0  Hey Ben  great feed  we'd like to organise a c...      1  Ben Platt   \n1                                         @_shxniex_      1  Ben Platt   \n2                         So fucking sexy @bensplatt      0  Ben Platt   \n3                                              Cute       0  Ben Platt   \n4           @lordemusic 🥀✨ @ellamai @palomamami @sza      0  Ben Platt   \n\n    platform  \n0  instagram  \n1  instagram  \n2  instagram  \n3  instagram  \n4  instagram  ",
      "text/html": "<div>\n<style scoped>\n    .dataframe tbody tr th:only-of-type {\n        vertical-align: middle;\n    }\n\n    .dataframe tbody tr th {\n        vertical-align: top;\n    }\n\n    .dataframe thead th {\n        text-align: right;\n    }\n</style>\n<table border=\"1\" class=\"dataframe\">\n  <thead>\n    <tr style=\"text-align: right;\">\n      <th></th>\n      <th>index</th>\n      <th>username</th>\n      <th>datetime</th>\n      <th>comment</th>\n      <th>likes</th>\n      <th>celeb</th>\n      <th>platform</th>\n    </tr>\n  </thead>\n  <tbody>\n    <tr>\n      <th>0</th>\n      <td>0</td>\n      <td>pierrearden_team_gelord</td>\n      <td>2020-09-15</td>\n      <td>Hey Ben  great feed  we'd like to organise a c...</td>\n      <td>1</td>\n      <td>Ben Platt</td>\n      <td>instagram</td>\n    </tr>\n    <tr>\n      <th>1</th>\n      <td>1</td>\n      <td>ophelielaplante</td>\n      <td>2020-09-19</td>\n      <td>@_shxniex_</td>\n      <td>1</td>\n      <td>Ben Platt</td>\n      <td>instagram</td>\n    </tr>\n    <tr>\n      <th>2</th>\n      <td>2</td>\n      <td>dr_wsutton</td>\n      <td>2020-09-27</td>\n      <td>So fucking sexy @bensplatt</td>\n      <td>0</td>\n      <td>Ben Platt</td>\n      <td>instagram</td>\n    </tr>\n    <tr>\n      <th>3</th>\n      <td>3</td>\n      <td>pwpmccormack</td>\n      <td>2020-10-26</td>\n      <td>Cute</td>\n      <td>0</td>\n      <td>Ben Platt</td>\n      <td>instagram</td>\n    </tr>\n    <tr>\n      <th>4</th>\n      <td>4</td>\n      <td>bby.joker_</td>\n      <td>2020-10-29</td>\n      <td>@lordemusic 🥀✨ @ellamai @palomamami @sza</td>\n      <td>0</td>\n      <td>Ben Platt</td>\n      <td>instagram</td>\n    </tr>\n  </tbody>\n</table>\n</div>"
     },
     "execution_count": 25,
     "metadata": {},
     "output_type": "execute_result"
    }
   ],
   "source": [
    "df.head()"
   ],
   "metadata": {
    "collapsed": false,
    "ExecuteTime": {
     "end_time": "2023-12-25T18:13:39.371222900Z",
     "start_time": "2023-12-25T18:13:39.343431400Z"
    }
   },
   "id": "4a882b94fd39dc28"
  },
  {
   "cell_type": "code",
   "execution_count": 27,
   "outputs": [
    {
     "data": {
      "text/plain": "                        username   datetime  \\\n0        pierrearden_team_gelord 2020-09-15   \n1                ophelielaplante 2020-09-19   \n2                     dr_wsutton 2020-09-27   \n3                   pwpmccormack 2020-10-26   \n4                     bby.joker_ 2020-10-29   \n...                          ...        ...   \n1830048                   kn22lk 2020-12-30   \n1830049                   kn22lk 2020-12-30   \n1830050                   kn22lk 2020-12-30   \n1830051                   kn22lk 2020-12-30   \n1830052                   kn22lk 2020-12-31   \n\n                                                   comment  likes      celeb  \\\n0        Hey Ben  great feed  we'd like to organise a c...      1  Ben Platt   \n1                                               @_shxniex_      1  Ben Platt   \n2                               So fucking sexy @bensplatt      0  Ben Platt   \n3                                                    Cute       0  Ben Platt   \n4                 @lordemusic 🥀✨ @ellamai @palomamami @sza      0  Ben Platt   \n...                                                    ...    ...        ...   \n1830048  Yeah there’s no way the public unemployment fi...      0  Joe Biden   \n1830049  Even if dems win both races in Georgia the rep...      0  Joe Biden   \n1830050  Trump's fault is the shitload of people that d...      0  Joe Biden   \n1830051                                            A Snafu      0  Joe Biden   \n1830052         Situation\\n\\nNormal\\n\\nAll\\n\\nFucked\\n\\nUp      0  Joe Biden   \n\n          platform  TOXICITY  SEVERE_TOXICITY  SEXUALLY_EXPLICIT  THREAT  \\\n0        instagram         0                0                  0       0   \n1        instagram         0                0                  0       0   \n2        instagram         0                0                  0       0   \n3        instagram         0                0                  0       0   \n4        instagram         0                0                  0       0   \n...            ...       ...              ...                ...     ...   \n1830048     reddit         0                0                  0       0   \n1830049     reddit         0                0                  0       0   \n1830050     reddit         0                0                  0       0   \n1830051     reddit         0                0                  0       0   \n1830052     reddit         0                0                  0       0   \n\n         INSULT  IDENTITY_ATTACK  \n0             0                0  \n1             0                0  \n2             0                0  \n3             0                0  \n4             0                0  \n...         ...              ...  \n1830048       0                0  \n1830049       0                0  \n1830050       0                0  \n1830051       0                0  \n1830052       0                0  \n\n[1629048 rows x 12 columns]",
      "text/html": "<div>\n<style scoped>\n    .dataframe tbody tr th:only-of-type {\n        vertical-align: middle;\n    }\n\n    .dataframe tbody tr th {\n        vertical-align: top;\n    }\n\n    .dataframe thead th {\n        text-align: right;\n    }\n</style>\n<table border=\"1\" class=\"dataframe\">\n  <thead>\n    <tr style=\"text-align: right;\">\n      <th></th>\n      <th>username</th>\n      <th>datetime</th>\n      <th>comment</th>\n      <th>likes</th>\n      <th>celeb</th>\n      <th>platform</th>\n      <th>TOXICITY</th>\n      <th>SEVERE_TOXICITY</th>\n      <th>SEXUALLY_EXPLICIT</th>\n      <th>THREAT</th>\n      <th>INSULT</th>\n      <th>IDENTITY_ATTACK</th>\n    </tr>\n  </thead>\n  <tbody>\n    <tr>\n      <th>0</th>\n      <td>pierrearden_team_gelord</td>\n      <td>2020-09-15</td>\n      <td>Hey Ben  great feed  we'd like to organise a c...</td>\n      <td>1</td>\n      <td>Ben Platt</td>\n      <td>instagram</td>\n      <td>0</td>\n      <td>0</td>\n      <td>0</td>\n      <td>0</td>\n      <td>0</td>\n      <td>0</td>\n    </tr>\n    <tr>\n      <th>1</th>\n      <td>ophelielaplante</td>\n      <td>2020-09-19</td>\n      <td>@_shxniex_</td>\n      <td>1</td>\n      <td>Ben Platt</td>\n      <td>instagram</td>\n      <td>0</td>\n      <td>0</td>\n      <td>0</td>\n      <td>0</td>\n      <td>0</td>\n      <td>0</td>\n    </tr>\n    <tr>\n      <th>2</th>\n      <td>dr_wsutton</td>\n      <td>2020-09-27</td>\n      <td>So fucking sexy @bensplatt</td>\n      <td>0</td>\n      <td>Ben Platt</td>\n      <td>instagram</td>\n      <td>0</td>\n      <td>0</td>\n      <td>0</td>\n      <td>0</td>\n      <td>0</td>\n      <td>0</td>\n    </tr>\n    <tr>\n      <th>3</th>\n      <td>pwpmccormack</td>\n      <td>2020-10-26</td>\n      <td>Cute</td>\n      <td>0</td>\n      <td>Ben Platt</td>\n      <td>instagram</td>\n      <td>0</td>\n      <td>0</td>\n      <td>0</td>\n      <td>0</td>\n      <td>0</td>\n      <td>0</td>\n    </tr>\n    <tr>\n      <th>4</th>\n      <td>bby.joker_</td>\n      <td>2020-10-29</td>\n      <td>@lordemusic 🥀✨ @ellamai @palomamami @sza</td>\n      <td>0</td>\n      <td>Ben Platt</td>\n      <td>instagram</td>\n      <td>0</td>\n      <td>0</td>\n      <td>0</td>\n      <td>0</td>\n      <td>0</td>\n      <td>0</td>\n    </tr>\n    <tr>\n      <th>...</th>\n      <td>...</td>\n      <td>...</td>\n      <td>...</td>\n      <td>...</td>\n      <td>...</td>\n      <td>...</td>\n      <td>...</td>\n      <td>...</td>\n      <td>...</td>\n      <td>...</td>\n      <td>...</td>\n      <td>...</td>\n    </tr>\n    <tr>\n      <th>1830048</th>\n      <td>kn22lk</td>\n      <td>2020-12-30</td>\n      <td>Yeah there’s no way the public unemployment fi...</td>\n      <td>0</td>\n      <td>Joe Biden</td>\n      <td>reddit</td>\n      <td>0</td>\n      <td>0</td>\n      <td>0</td>\n      <td>0</td>\n      <td>0</td>\n      <td>0</td>\n    </tr>\n    <tr>\n      <th>1830049</th>\n      <td>kn22lk</td>\n      <td>2020-12-30</td>\n      <td>Even if dems win both races in Georgia the rep...</td>\n      <td>0</td>\n      <td>Joe Biden</td>\n      <td>reddit</td>\n      <td>0</td>\n      <td>0</td>\n      <td>0</td>\n      <td>0</td>\n      <td>0</td>\n      <td>0</td>\n    </tr>\n    <tr>\n      <th>1830050</th>\n      <td>kn22lk</td>\n      <td>2020-12-30</td>\n      <td>Trump's fault is the shitload of people that d...</td>\n      <td>0</td>\n      <td>Joe Biden</td>\n      <td>reddit</td>\n      <td>0</td>\n      <td>0</td>\n      <td>0</td>\n      <td>0</td>\n      <td>0</td>\n      <td>0</td>\n    </tr>\n    <tr>\n      <th>1830051</th>\n      <td>kn22lk</td>\n      <td>2020-12-30</td>\n      <td>A Snafu</td>\n      <td>0</td>\n      <td>Joe Biden</td>\n      <td>reddit</td>\n      <td>0</td>\n      <td>0</td>\n      <td>0</td>\n      <td>0</td>\n      <td>0</td>\n      <td>0</td>\n    </tr>\n    <tr>\n      <th>1830052</th>\n      <td>kn22lk</td>\n      <td>2020-12-31</td>\n      <td>Situation\\n\\nNormal\\n\\nAll\\n\\nFucked\\n\\nUp</td>\n      <td>0</td>\n      <td>Joe Biden</td>\n      <td>reddit</td>\n      <td>0</td>\n      <td>0</td>\n      <td>0</td>\n      <td>0</td>\n      <td>0</td>\n      <td>0</td>\n    </tr>\n  </tbody>\n</table>\n<p>1629048 rows × 12 columns</p>\n</div>"
     },
     "execution_count": 27,
     "metadata": {},
     "output_type": "execute_result"
    }
   ],
   "source": [
    "new_columns = [\"TOXICITY\", \"SEVERE_TOXICITY\", \"SEXUALLY_EXPLICIT\", \"THREAT\", \"INSULT\", \"IDENTITY_ATTACK\"]\n",
    "for column in new_columns:\n",
    "    df[column] = 0\n",
    "\n",
    "df.drop('index', axis=1)"
   ],
   "metadata": {
    "collapsed": false,
    "ExecuteTime": {
     "end_time": "2023-12-25T18:19:54.415512700Z",
     "start_time": "2023-12-25T18:19:51.671618900Z"
    }
   }
  },
  {
   "cell_type": "code",
   "execution_count": 28,
   "outputs": [],
   "source": [
    "df.to_csv('comments_not_label.csv', index=False, quoting=2)"
   ],
   "metadata": {
    "collapsed": false,
    "ExecuteTime": {
     "end_time": "2023-12-25T18:20:16.602958Z",
     "start_time": "2023-12-25T18:20:10.104147300Z"
    }
   },
   "id": "9e5932e80cd99633"
  },
  {
   "cell_type": "code",
   "execution_count": null,
   "outputs": [],
   "source": [],
   "metadata": {
    "collapsed": false
   }
  }
 ],
 "metadata": {
  "kernelspec": {
   "display_name": "Python 3",
   "language": "python",
   "name": "python3"
  },
  "language_info": {
   "codemirror_mode": {
    "name": "ipython",
    "version": 2
   },
   "file_extension": ".py",
   "mimetype": "text/x-python",
   "name": "python",
   "nbconvert_exporter": "python",
   "pygments_lexer": "ipython2",
   "version": "2.7.6"
  }
 },
 "nbformat": 4,
 "nbformat_minor": 5
}
